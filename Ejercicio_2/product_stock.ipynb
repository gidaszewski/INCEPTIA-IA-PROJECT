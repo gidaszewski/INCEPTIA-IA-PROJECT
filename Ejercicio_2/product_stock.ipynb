{
 "cells": [
  {
   "cell_type": "code",
   "execution_count": 1,
   "metadata": {},
   "outputs": [
    {
     "name": "stderr",
     "output_type": "stream",
     "text": [
      "2023-07-05 12:47:26,637 - INFO - No hay suficiente stock de Granizado. Stock disponible: 10\n"
     ]
    },
    {
     "name": "stdout",
     "output_type": "stream",
     "text": [
      "True\n",
      "False\n"
     ]
    }
   ],
   "source": [
    "import pandas as pd\n",
    "import logging\n",
    "\n",
    "# Configuración de registro utilizando la biblioteca logging para un mejor control y manejo de los mensajes.\n",
    "logger = logging.getLogger(__name__)\n",
    "logger.setLevel(logging.DEBUG)\n",
    "formatter = logging.Formatter('%(asctime)s - %(levelname)s - %(message)s')\n",
    "console_handler = logging.StreamHandler()\n",
    "console_handler.setLevel(logging.DEBUG)\n",
    "console_handler.setFormatter(formatter)\n",
    "if not logger.handlers:\n",
    "    logger.addHandler(console_handler)\n",
    "\n",
    "# Diccionario con las claves y valores dados en el ejercicio 2.1\n",
    "data = {\"product_name\": [\"Chocolate\", \"Granizado\", \"Limon\", \"Dulce de Leche\"], \"quantity\": [3,10,0,5]}\n",
    "\n",
    "# Creción del DataFrame utilizando la biblioteca Pandas\n",
    "_PRODUCT_DF = pd.DataFrame(data)\n",
    "\n",
    "def is_product_available(product_name: str, quantity: int):\n",
    "    \"\"\"Verifica si existe stock.\n",
    "\n",
    "    Args:\n",
    "        product_name (str): Nombre del producto a consultar stock\n",
    "        quantity (int): Cantidad del producto a consultar stock\n",
    "\n",
    "    Returns:\n",
    "        bool: Devuelve un True si existe stock del producto y cantidad consultado.\n",
    "              Devuelve False si no existe stock, se produce una excepción o el usuario cancela el proceso.\n",
    "    \"\"\"\n",
    "    global _PRODUCT_DF\n",
    "    try:\n",
    "        # Utilizando 'loc' se filtran las filas del DF donde el nombre del producto coincide\n",
    "        # con el argumento 'product_name' proporcionado.\n",
    "        product_row = _PRODUCT_DF.loc[_PRODUCT_DF['product_name'] == product_name]\n",
    "        if product_row.empty:\n",
    "            logger.info(f\"No se encontró el producto {product_name}.\")\n",
    "            return False\n",
    "        \n",
    "        # Accede al valor de stock 'quantity' para el producto seleccionado 'product_row'.\n",
    "        product_stock = product_row['quantity'].values[0]\n",
    "\n",
    "        # A través de un bucle if se compara la cantidad de stock que hay del producto seleccionado 'product_stock' \n",
    "        # con la cantidad 'quantity' ingresada en la función.\n",
    "        if product_stock >= quantity:\n",
    "            return True\n",
    "        else:\n",
    "            logger.info(f\"No hay suficiente stock de {product_name}. Stock disponible: {product_stock}\")\n",
    "            return False\n",
    "    \n",
    "    except KeyboardInterrupt:\n",
    "        logger.error(\"Proceso de pedido cancelado.\")\n",
    "        return False\n",
    "\n",
    "    except Exception as e:\n",
    "        logger.error(f\"Error: {str(e)}.\")\n",
    "        return False\n",
    "    \n",
    "print(is_product_available(\"Chocolate\", 2))\n",
    "print(is_product_available(\"Granizado\", 11))"
   ]
  }
 ],
 "metadata": {
  "language_info": {
   "name": "python"
  },
  "orig_nbformat": 4
 },
 "nbformat": 4,
 "nbformat_minor": 2
}
