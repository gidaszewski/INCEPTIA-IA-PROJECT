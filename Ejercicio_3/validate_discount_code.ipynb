{
 "cells": [
  {
   "cell_type": "code",
   "execution_count": 1,
   "metadata": {},
   "outputs": [
    {
     "name": "stdout",
     "output_type": "stream",
     "text": [
      "True\n",
      "True\n",
      "True\n",
      "True\n"
     ]
    }
   ],
   "source": [
    "_AVAILABLE_DISCOUNT_CODES = [\"Primavera2021\", \"Verano2021\",\n",
    "\"Navidad2x1\", \"heladoFrozen\"]\n",
    "\n",
    "def validate_discount_code(discount_code: str) -> bool:\n",
    "    \"\"\"Verifica si el código de descuento ingresado por el usuario es válido.\n",
    "\n",
    "    Args:\n",
    "        discount_code (str): Código de descuento a verificar ingresado por el usuario.\n",
    "\n",
    "    Returns:\n",
    "        bool: Devuelve True si el código de descuento ingresado es válido y cumple\n",
    "              con el criterio de diferencia menor a tres caracteres en al menos uno\n",
    "              de los casos. Devuelve False en caso contrario.\n",
    "    \"\"\"\n",
    "    global _AVAILABLE_DISCOUNT_CODES\n",
    "    # Bloque if que verifica si 'discount_code' coincide exactamente con uno\n",
    "    # de los códigos vigentes. Si es así entonces la función devuelve True.\n",
    "    if discount_code in _AVAILABLE_DISCOUNT_CODES:\n",
    "        return True\n",
    "    \n",
    "    # Si 'discount_code' no coincide exactamente con ningún código vigente, entonces\n",
    "    # se recorre cada código vigente de la lista '_AVAILABLE_DISCOUNT_CODES'.\n",
    "    # Luego dentro de la variable 'differences' se guardan la cantidad de diferencias \n",
    "    # que se encuentran entre 'discount_code' y el/los códigos vigentes.\n",
    "    # Además se aplica el método lower() para convertir a minúsculas tanto el código\n",
    "    # ingresado por el usuario, como los código vigentes para que la comparación sea\n",
    "    # insensible a mayúsculas y minúsculas como lo pide el enunciado del ejercicio 3.\n",
    "    \n",
    "    for code in _AVAILABLE_DISCOUNT_CODES:\n",
    "        differences = sum(1 for char in discount_code.lower() if char not in code.lower()) + sum(1 for char in code.lower() if char not in discount_code.lower())\n",
    "        \n",
    "        if differences <= 3:\n",
    "            return True\n",
    "    \n",
    "    return False\n",
    "\n",
    "print(validate_discount_code(\"primavera2021\"))\n",
    "print(validate_discount_code(\"verano2022\"))\n",
    "print(validate_discount_code(\"navidad2x2\"))\n",
    "print(validate_discount_code(\"HeladoFrozem\"))"
   ]
  }
 ],
 "metadata": {
  "kernelspec": {
   "display_name": "Python 3",
   "language": "python",
   "name": "python3"
  },
  "language_info": {
   "codemirror_mode": {
    "name": "ipython",
    "version": 3
   },
   "file_extension": ".py",
   "mimetype": "text/x-python",
   "name": "python",
   "nbconvert_exporter": "python",
   "pygments_lexer": "ipython3",
   "version": "3.10.1"
  },
  "orig_nbformat": 4
 },
 "nbformat": 4,
 "nbformat_minor": 2
}
